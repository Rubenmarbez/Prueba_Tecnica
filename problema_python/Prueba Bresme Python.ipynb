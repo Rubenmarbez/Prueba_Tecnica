{
 "cells": [
  {
   "cell_type": "markdown",
   "metadata": {},
   "source": [
    "### Desarrolla un script en Python que nos permita calcular el factorial de un número dado. Además, ¿cómo asegurarías que el script maneje correctamente casos especiales como el factorial de 0 y números negativos?"
   ]
  },
  {
   "cell_type": "code",
   "execution_count": 1,
   "metadata": {},
   "outputs": [],
   "source": [
    "def factorial(n):\n",
    "    if n < 0:\n",
    "        return \"El factorial de un número no está definido para números negativos\"\n",
    "    elif n == 0:\n",
    "        return 1\n",
    "    else:\n",
    "        factorial = 1\n",
    "        for i in range(1, n + 1):\n",
    "            factorial *= i\n",
    "        return factorial"
   ]
  },
  {
   "cell_type": "code",
   "execution_count": 2,
   "metadata": {},
   "outputs": [
    {
     "name": "stdout",
     "output_type": "stream",
     "text": [
      "24\n",
      "1\n",
      "El factorial de un número no está definido para números negativos\n"
     ]
    }
   ],
   "source": [
    "resultado_positivo = factorial(4)\n",
    "print(resultado_positivo)\n",
    "resultado_cero = factorial(0)\n",
    "print(resultado_cero)\n",
    "resultado_negativo = factorial(-2)\n",
    "print(resultado_negativo)"
   ]
  }
 ],
 "metadata": {
  "kernelspec": {
   "display_name": "base",
   "language": "python",
   "name": "python3"
  },
  "language_info": {
   "codemirror_mode": {
    "name": "ipython",
    "version": 3
   },
   "file_extension": ".py",
   "mimetype": "text/x-python",
   "name": "python",
   "nbconvert_exporter": "python",
   "pygments_lexer": "ipython3",
   "version": "3.11.5"
  }
 },
 "nbformat": 4,
 "nbformat_minor": 2
}
